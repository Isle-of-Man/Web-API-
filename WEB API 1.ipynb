{
 "cells": [
  {
   "cell_type": "code",
   "execution_count": 9,
   "id": "8b2b1683",
   "metadata": {},
   "outputs": [
    {
     "name": "stdout",
     "output_type": "stream",
     "text": [
      "Requirement already satisfied: requests in c:\\users\\acer\\anaconda3\\lib\\site-packages (2.28.1)\n",
      "Requirement already satisfied: urllib3<1.27,>=1.21.1 in c:\\users\\acer\\anaconda3\\lib\\site-packages (from requests) (1.26.7)\n",
      "Requirement already satisfied: certifi>=2017.4.17 in c:\\users\\acer\\anaconda3\\lib\\site-packages (from requests) (2022.5.18.1)\n",
      "Requirement already satisfied: charset-normalizer<3,>=2 in c:\\users\\acer\\anaconda3\\lib\\site-packages (from requests) (2.0.4)\n",
      "Requirement already satisfied: idna<4,>=2.5 in c:\\users\\acer\\anaconda3\\lib\\site-packages (from requests) (3.2)\n"
     ]
    }
   ],
   "source": [
    "!pip install requests"
   ]
  },
  {
   "cell_type": "code",
   "execution_count": 10,
   "id": "a6a7ea3a",
   "metadata": {},
   "outputs": [],
   "source": [
    "import requests"
   ]
  },
  {
   "cell_type": "code",
   "execution_count": 11,
   "id": "111f4d9e",
   "metadata": {},
   "outputs": [],
   "source": [
    "url = 'https://api.ipify.org'"
   ]
  },
  {
   "cell_type": "code",
   "execution_count": 12,
   "id": "7c18267f",
   "metadata": {},
   "outputs": [
    {
     "data": {
      "text/plain": [
       "'https://api.ipify.org'"
      ]
     },
     "execution_count": 12,
     "metadata": {},
     "output_type": "execute_result"
    }
   ],
   "source": [
    "url"
   ]
  },
  {
   "cell_type": "code",
   "execution_count": 13,
   "id": "3e2e4813",
   "metadata": {},
   "outputs": [],
   "source": [
    "res = requests.get(url)"
   ]
  },
  {
   "cell_type": "code",
   "execution_count": 14,
   "id": "db7bbcea",
   "metadata": {},
   "outputs": [
    {
     "data": {
      "text/plain": [
       "200"
      ]
     },
     "execution_count": 14,
     "metadata": {},
     "output_type": "execute_result"
    }
   ],
   "source": [
    "res.status_code"
   ]
  },
  {
   "cell_type": "code",
   "execution_count": 15,
   "id": "b3aea29f",
   "metadata": {},
   "outputs": [
    {
     "data": {
      "text/plain": [
       "'49.37.225.163'"
      ]
     },
     "execution_count": 15,
     "metadata": {},
     "output_type": "execute_result"
    }
   ],
   "source": [
    "res.text"
   ]
  },
  {
   "cell_type": "markdown",
   "id": "29d9ec8b",
   "metadata": {},
   "source": [
    "#### Interacting with twitter API"
   ]
  },
  {
   "cell_type": "code",
   "execution_count": 16,
   "id": "02ec9a57",
   "metadata": {},
   "outputs": [
    {
     "name": "stdout",
     "output_type": "stream",
     "text": [
      "Requirement already satisfied: tweepy in c:\\users\\acer\\anaconda3\\lib\\site-packages (4.10.1)\n",
      "Requirement already satisfied: requests-oauthlib<2,>=1.2.0 in c:\\users\\acer\\anaconda3\\lib\\site-packages (from tweepy) (1.3.1)\n",
      "Requirement already satisfied: requests<3,>=2.27.0 in c:\\users\\acer\\anaconda3\\lib\\site-packages (from tweepy) (2.28.1)\n",
      "Requirement already satisfied: oauthlib<4,>=3.2.0 in c:\\users\\acer\\anaconda3\\lib\\site-packages (from tweepy) (3.2.0)\n",
      "Requirement already satisfied: charset-normalizer<3,>=2 in c:\\users\\acer\\anaconda3\\lib\\site-packages (from requests<3,>=2.27.0->tweepy) (2.0.4)\n",
      "Requirement already satisfied: idna<4,>=2.5 in c:\\users\\acer\\anaconda3\\lib\\site-packages (from requests<3,>=2.27.0->tweepy) (3.2)\n",
      "Requirement already satisfied: urllib3<1.27,>=1.21.1 in c:\\users\\acer\\anaconda3\\lib\\site-packages (from requests<3,>=2.27.0->tweepy) (1.26.7)\n",
      "Requirement already satisfied: certifi>=2017.4.17 in c:\\users\\acer\\anaconda3\\lib\\site-packages (from requests<3,>=2.27.0->tweepy) (2022.5.18.1)\n"
     ]
    }
   ],
   "source": [
    "!pip install tweepy"
   ]
  },
  {
   "cell_type": "code",
   "execution_count": 17,
   "id": "8f3a5138",
   "metadata": {},
   "outputs": [],
   "source": [
    "import tweepy"
   ]
  },
  {
   "cell_type": "markdown",
   "id": "dcd179cd",
   "metadata": {},
   "source": [
    "#### authenticate"
   ]
  },
  {
   "cell_type": "code",
   "execution_count": 18,
   "id": "9f857311",
   "metadata": {},
   "outputs": [],
   "source": [
    "client = tweepy.Client(\"AAAAAAAAAAAAAAAAAAAAAOkpggEAAAAAZ5WQvgoFLqcI9rzSWdx7hxsmrXs%3DZJZrk8fm6tSxLjKnYQnbCafbwJcdzvAPdJr41uMZjBd8ipECu9\")"
   ]
  },
  {
   "cell_type": "markdown",
   "id": "979473e1",
   "metadata": {},
   "source": [
    "#### Extract tweets from an Account"
   ]
  },
  {
   "cell_type": "code",
   "execution_count": 20,
   "id": "f280029a",
   "metadata": {},
   "outputs": [],
   "source": [
    "query = 'from:scaler_official'\n",
    "\n",
    "tweets = client.search_recent_tweets(query , tweet_fields = ['created_at' , 'author_id'], max_results = 100)"
   ]
  },
  {
   "cell_type": "code",
   "execution_count": 22,
   "id": "db8e0b8e",
   "metadata": {},
   "outputs": [
    {
     "data": {
      "text/plain": [
       "[<Tweet id=1564585427314659335 text=\"@ankur_adhyapak Hi Ankur Adhyapak, thank you for reaching out. This number and profile belongs to one of our Mentors. If you have queries, please send us a message over DM and we'll help you out! 😊\">,\n",
       " <Tweet id=1564583491223932928 text=\"@shklnrj This is not the experience we aim to provide, and we value our relationship with our customers. Please reach out to us on DM with the issue you're facing and your contact details, we will look into it and assist you in best way possible.\">,\n",
       " <Tweet id=1564580377909284864 text='https://t.co/GwEH8DItYM'>,\n",
       " <Tweet id=1564580369738870784 text='Register Here: https://t.co/VKi8K4ryNT https://t.co/uQQm8FficK'>,\n",
       " <Tweet id=1564580358812618752 text='Kolkata, “City of Culture” we are coming to your town with the aim to expand our offline community and build a tech culture.\\nWe promise you a meetup to remember with #Codersoffline.\\n\\n#CreateImpact'>,\n",
       " <Tweet id=1564568956379484162 text=\"@akshaym80707600 Hello Akshay Mehta. This is not the experience we aim to provide, and we value our relationship with our customers. Please reach out to us on DM with the issue you're facing and your contact details, we will look into it and assist you in best way possible.\">,\n",
       " <Tweet id=1564553905836548096 text=\"@Khushi_Ray_ Hi Khushi, we're super excited to see your interest in learning at Scaler! Please head over to the following link to register for a call back and our team will reach out to you soon: https://t.co/JLLo6waGLs\">,\n",
       " <Tweet id=1564501367288639488 text='From being schooled at a Hindi medium school in her hometown to landing her dream job as a Computer Scientist in Adobe, Mohini is happy with the return on investment she got by joining us. Hear her inspiring story. \\n\\n#BehindTheWin #SCALER #CreateImpact https://t.co/XdFw8DxR7X'>,\n",
       " <Tweet id=1564198253494673408 text='@_JyotiSharma__ help you out with any queries you may have. (2/2)'>,\n",
       " <Tweet id=1564198252961988608 text='@_JyotiSharma__ Hi Jyoti, science background is not required to enroll in this course. You can start from the Beginner module in which we will cover the basics of coding. Also, please share your contact details via support@scaler.com, so that our team can connect with you and (1/2)'>,\n",
       " <Tweet id=1564197801369780225 text='@Radha_Shingh_ you and help you out with any queries you may have. (2/2)'>,\n",
       " <Tweet id=1564197800853782529 text='@Radha_Shingh_ Hi Radha Shingh, coding background is not required to enroll in this course. You can start from the Beginner module in which we will cover the basics of coding. Also, please share your contact details via support@scaler.com, so that our team can connect with (1/2)'>,\n",
       " <Tweet id=1564197220982857731 text=\"@SonalShingh Hi Sonal, we're super excited to see your interest in learning at Scaler! Please head over to the following link to register for a call back and our team will reach out to you soon: https://t.co/JLLo6waGLs\">,\n",
       " <Tweet id=1564196914794577922 text=\"@_NeelamSharma_ Hi Neelam Sharma, we're super excited to see your interest in learning at Scaler! Please head over to the following link to register for a call back and our team will reach out to you soon: https://t.co/JLLo6waGLs\">,\n",
       " <Tweet id=1564196311104163841 text=\"@Nidhi_Roy_ Hi Nidhi, we're super excited to see your interest in learning at Scaler! We do conduct free live classes and you can head over to the following link to sign-up for them and to know more about them: https://t.co/5aljjkifyp\">,\n",
       " <Tweet id=1564195297869299715 text=\"@Im_Muskan___ Hi Muskan, we're super excited to see your interest in learning at Scaler! Please head over to the following link to register for a call back and our team will reach out to you soon: https://t.co/JLLo6waGLs\">,\n",
       " <Tweet id=1564123282508763137 text='Decision Tree in machine learning simplified 💡\\n\\n#MachineLearning #CreateImpact https://t.co/AV9tTcerIh'>,\n",
       " <Tweet id=1563792421737345026 text='Click this link and book a free live class:\\nhttps://t.co/jhAUWm8ZqL'>,\n",
       " <Tweet id=1563792002604744705 text='Do you dare enough to stomp your feet, put a smile on your face and call the problems towards you? Then why not solve real business problems with SCALER Data Science Program?\\n\\nBecause when life gives you problems, solve them with data.\\n\\n#CreateImpact #SCALER #DataScience https://t.co/Aa4Crbrvm7'>,\n",
       " <Tweet id=1563408900967129089 text=\"They say sports betting is an art, but we say it's all in the data, bro!\\n\\nWatch the 3rd Episode of #DataBro, where Guru, a data scientist, explains to Nitin how the proper use of data science can assist you in betting on the right team. \\n\\n#SCALEROriginals\\n@thejordindian https://t.co/AuT8i372ok\">,\n",
       " <Tweet id=1563155961896120320 text=\"@Amir17687955 Hi Amir, we apologise for any inconvenience caused by us - we're here to assist you. We would like to know more about the issue you're facing. Please connect with us at support@scaler.com and share your contact details along with your concern.\">,\n",
       " <Tweet id=1563056144427663361 text='https://t.co/nigwlAnCb0'>,\n",
       " <Tweet id=1563056136882106368 text='Register Here: https://t.co/9PdToAqgnk https://t.co/i97G4xlFS2'>,\n",
       " <Tweet id=1563056129084899329 text='Bengaluru, get ready to be part of an initiative that is building an offline community of techies.\\n#CodersOffline is here with the promise to impart to you the knowledge of a lifetime and much more.\\n\\n#CreateImpact'>,\n",
       " <Tweet id=1562809576067842048 text='https://t.co/OVKVZhKMuI'>,\n",
       " <Tweet id=1562809570447478787 text='Join our Live Telecast to clear your doubts.\\nRegister here: https://t.co/cEvpWXgBQj\\n\\n#CreateImpact https://t.co/XwpP0rwleU'>,\n",
       " <Tweet id=1562809565170880512 text='Are you confused about which holds more value?\\n\\nSKILLS    or       DEGREES\\n      _____  | _____\\n            /   |  \\\\\\n          /     |    \\\\\\n        /       |       \\\\\\n    ____      |         ____\\n    \\\\__/      |         \\\\__/\\n                 |\\n             ______'>,\n",
       " <Tweet id=1562675644794028032 text='What I sing after finding a bug 2 weeks into writing a code:\\n\\n“𝑾𝒉𝒚 𝒕𝒉𝒊𝒔 𝒘𝒉𝒚 𝒕𝒉𝒊𝒔 𝑪𝒐𝒅𝒆 𝒂 𝒗𝒆𝒓𝒚 𝑪𝒐𝒅𝒆 𝒂 𝒗𝒆𝒓𝒚 𝒔𝒉𝒊𝒕?\\n𝑩𝒖𝒈 𝒎𝒊𝒍𝒂 𝒏𝒐𝒕 𝒔𝒐𝒐𝒏 𝒔𝒐𝒐𝒏,\\n𝑺𝒐𝒐𝒏 𝒅𝒆𝒂𝒅𝒍𝒊𝒏𝒆 𝒕𝒊𝒈𝒉𝒕. ”'>,\n",
       " <Tweet id=1562314852399722497 text='#KNNAlgorithm is also used to differentiate between more sophisticated things like identifying diseases from X Rays and MRI scans.\\n\\n#MachineLearning #SCALER https://t.co/YITfkyaX7j'>]"
      ]
     },
     "execution_count": 22,
     "metadata": {},
     "output_type": "execute_result"
    }
   ],
   "source": [
    "tweets.data"
   ]
  },
  {
   "cell_type": "code",
   "execution_count": 25,
   "id": "d38401ac",
   "metadata": {},
   "outputs": [
    {
     "name": "stdout",
     "output_type": "stream",
     "text": [
      "@ankur_adhyapak Hi Ankur Adhyapak, thank you for reaching out. This number and profile belongs to one of our Mentors. If you have queries, please send us a message over DM and we'll help you out! 😊\n",
      "@shklnrj This is not the experience we aim to provide, and we value our relationship with our customers. Please reach out to us on DM with the issue you're facing and your contact details, we will look into it and assist you in best way possible.\n",
      "https://t.co/GwEH8DItYM\n",
      "Register Here: https://t.co/VKi8K4ryNT https://t.co/uQQm8FficK\n",
      "Kolkata, “City of Culture” we are coming to your town with the aim to expand our offline community and build a tech culture.\n",
      "We promise you a meetup to remember with #Codersoffline.\n",
      "\n",
      "#CreateImpact\n",
      "@akshaym80707600 Hello Akshay Mehta. This is not the experience we aim to provide, and we value our relationship with our customers. Please reach out to us on DM with the issue you're facing and your contact details, we will look into it and assist you in best way possible.\n",
      "@Khushi_Ray_ Hi Khushi, we're super excited to see your interest in learning at Scaler! Please head over to the following link to register for a call back and our team will reach out to you soon: https://t.co/JLLo6waGLs\n",
      "From being schooled at a Hindi medium school in her hometown to landing her dream job as a Computer Scientist in Adobe, Mohini is happy with the return on investment she got by joining us. Hear her inspiring story. \n",
      "\n",
      "#BehindTheWin #SCALER #CreateImpact https://t.co/XdFw8DxR7X\n",
      "@_JyotiSharma__ help you out with any queries you may have. (2/2)\n",
      "@_JyotiSharma__ Hi Jyoti, science background is not required to enroll in this course. You can start from the Beginner module in which we will cover the basics of coding. Also, please share your contact details via support@scaler.com, so that our team can connect with you and (1/2)\n",
      "@Radha_Shingh_ you and help you out with any queries you may have. (2/2)\n",
      "@Radha_Shingh_ Hi Radha Shingh, coding background is not required to enroll in this course. You can start from the Beginner module in which we will cover the basics of coding. Also, please share your contact details via support@scaler.com, so that our team can connect with (1/2)\n",
      "@SonalShingh Hi Sonal, we're super excited to see your interest in learning at Scaler! Please head over to the following link to register for a call back and our team will reach out to you soon: https://t.co/JLLo6waGLs\n",
      "@_NeelamSharma_ Hi Neelam Sharma, we're super excited to see your interest in learning at Scaler! Please head over to the following link to register for a call back and our team will reach out to you soon: https://t.co/JLLo6waGLs\n",
      "@Nidhi_Roy_ Hi Nidhi, we're super excited to see your interest in learning at Scaler! We do conduct free live classes and you can head over to the following link to sign-up for them and to know more about them: https://t.co/5aljjkifyp\n",
      "@Im_Muskan___ Hi Muskan, we're super excited to see your interest in learning at Scaler! Please head over to the following link to register for a call back and our team will reach out to you soon: https://t.co/JLLo6waGLs\n",
      "Decision Tree in machine learning simplified 💡\n",
      "\n",
      "#MachineLearning #CreateImpact https://t.co/AV9tTcerIh\n",
      "Click this link and book a free live class:\n",
      "https://t.co/jhAUWm8ZqL\n",
      "Do you dare enough to stomp your feet, put a smile on your face and call the problems towards you? Then why not solve real business problems with SCALER Data Science Program?\n",
      "\n",
      "Because when life gives you problems, solve them with data.\n",
      "\n",
      "#CreateImpact #SCALER #DataScience https://t.co/Aa4Crbrvm7\n",
      "They say sports betting is an art, but we say it's all in the data, bro!\n",
      "\n",
      "Watch the 3rd Episode of #DataBro, where Guru, a data scientist, explains to Nitin how the proper use of data science can assist you in betting on the right team. \n",
      "\n",
      "#SCALEROriginals\n",
      "@thejordindian https://t.co/AuT8i372ok\n",
      "@Amir17687955 Hi Amir, we apologise for any inconvenience caused by us - we're here to assist you. We would like to know more about the issue you're facing. Please connect with us at support@scaler.com and share your contact details along with your concern.\n",
      "https://t.co/nigwlAnCb0\n",
      "Register Here: https://t.co/9PdToAqgnk https://t.co/i97G4xlFS2\n",
      "Bengaluru, get ready to be part of an initiative that is building an offline community of techies.\n",
      "#CodersOffline is here with the promise to impart to you the knowledge of a lifetime and much more.\n",
      "\n",
      "#CreateImpact\n",
      "https://t.co/OVKVZhKMuI\n",
      "Join our Live Telecast to clear your doubts.\n",
      "Register here: https://t.co/cEvpWXgBQj\n",
      "\n",
      "#CreateImpact https://t.co/XwpP0rwleU\n",
      "Are you confused about which holds more value?\n",
      "\n",
      "SKILLS    or       DEGREES\n",
      "      _____  | _____\n",
      "            /   |  \\\n",
      "          /     |    \\\n",
      "        /       |       \\\n",
      "    ____      |         ____\n",
      "    \\__/      |         \\__/\n",
      "                 |\n",
      "             ______\n",
      "What I sing after finding a bug 2 weeks into writing a code:\n",
      "\n",
      "“𝑾𝒉𝒚 𝒕𝒉𝒊𝒔 𝒘𝒉𝒚 𝒕𝒉𝒊𝒔 𝑪𝒐𝒅𝒆 𝒂 𝒗𝒆𝒓𝒚 𝑪𝒐𝒅𝒆 𝒂 𝒗𝒆𝒓𝒚 𝒔𝒉𝒊𝒕?\n",
      "𝑩𝒖𝒈 𝒎𝒊𝒍𝒂 𝒏𝒐𝒕 𝒔𝒐𝒐𝒏 𝒔𝒐𝒐𝒏,\n",
      "𝑺𝒐𝒐𝒏 𝒅𝒆𝒂𝒅𝒍𝒊𝒏𝒆 𝒕𝒊𝒈𝒉𝒕. ”\n",
      "#KNNAlgorithm is also used to differentiate between more sophisticated things like identifying diseases from X Rays and MRI scans.\n",
      "\n",
      "#MachineLearning #SCALER https://t.co/YITfkyaX7j\n"
     ]
    }
   ],
   "source": [
    "for tweet in tweets.data:\n",
    "    print(tweet)"
   ]
  },
  {
   "cell_type": "code",
   "execution_count": 27,
   "id": "ac166c23",
   "metadata": {
    "scrolled": false
   },
   "outputs": [
    {
     "name": "stdout",
     "output_type": "stream",
     "text": [
      "@ankur_adhyapak Hi Ankur Adhyapak, thank you for reaching out. This number and profile belongs to one of our Mentors. If you have queries, please send us a message over DM and we'll help you out! 😊\n",
      "Author:1194875574331699200\n",
      "-----------------\n",
      "@shklnrj This is not the experience we aim to provide, and we value our relationship with our customers. Please reach out to us on DM with the issue you're facing and your contact details, we will look into it and assist you in best way possible.\n",
      "Author:1194875574331699200\n",
      "-----------------\n",
      "https://t.co/GwEH8DItYM\n",
      "Author:1194875574331699200\n",
      "-----------------\n",
      "Register Here: https://t.co/VKi8K4ryNT https://t.co/uQQm8FficK\n",
      "Author:1194875574331699200\n",
      "-----------------\n",
      "Kolkata, “City of Culture” we are coming to your town with the aim to expand our offline community and build a tech culture.\n",
      "We promise you a meetup to remember with #Codersoffline.\n",
      "\n",
      "#CreateImpact\n",
      "Author:1194875574331699200\n",
      "-----------------\n",
      "@akshaym80707600 Hello Akshay Mehta. This is not the experience we aim to provide, and we value our relationship with our customers. Please reach out to us on DM with the issue you're facing and your contact details, we will look into it and assist you in best way possible.\n",
      "Author:1194875574331699200\n",
      "-----------------\n",
      "@Khushi_Ray_ Hi Khushi, we're super excited to see your interest in learning at Scaler! Please head over to the following link to register for a call back and our team will reach out to you soon: https://t.co/JLLo6waGLs\n",
      "Author:1194875574331699200\n",
      "-----------------\n",
      "From being schooled at a Hindi medium school in her hometown to landing her dream job as a Computer Scientist in Adobe, Mohini is happy with the return on investment she got by joining us. Hear her inspiring story. \n",
      "\n",
      "#BehindTheWin #SCALER #CreateImpact https://t.co/XdFw8DxR7X\n",
      "Author:1194875574331699200\n",
      "-----------------\n",
      "@_JyotiSharma__ help you out with any queries you may have. (2/2)\n",
      "Author:1194875574331699200\n",
      "-----------------\n",
      "@_JyotiSharma__ Hi Jyoti, science background is not required to enroll in this course. You can start from the Beginner module in which we will cover the basics of coding. Also, please share your contact details via support@scaler.com, so that our team can connect with you and (1/2)\n",
      "Author:1194875574331699200\n",
      "-----------------\n",
      "@Radha_Shingh_ you and help you out with any queries you may have. (2/2)\n",
      "Author:1194875574331699200\n",
      "-----------------\n",
      "@Radha_Shingh_ Hi Radha Shingh, coding background is not required to enroll in this course. You can start from the Beginner module in which we will cover the basics of coding. Also, please share your contact details via support@scaler.com, so that our team can connect with (1/2)\n",
      "Author:1194875574331699200\n",
      "-----------------\n",
      "@SonalShingh Hi Sonal, we're super excited to see your interest in learning at Scaler! Please head over to the following link to register for a call back and our team will reach out to you soon: https://t.co/JLLo6waGLs\n",
      "Author:1194875574331699200\n",
      "-----------------\n",
      "@_NeelamSharma_ Hi Neelam Sharma, we're super excited to see your interest in learning at Scaler! Please head over to the following link to register for a call back and our team will reach out to you soon: https://t.co/JLLo6waGLs\n",
      "Author:1194875574331699200\n",
      "-----------------\n",
      "@Nidhi_Roy_ Hi Nidhi, we're super excited to see your interest in learning at Scaler! We do conduct free live classes and you can head over to the following link to sign-up for them and to know more about them: https://t.co/5aljjkifyp\n",
      "Author:1194875574331699200\n",
      "-----------------\n",
      "@Im_Muskan___ Hi Muskan, we're super excited to see your interest in learning at Scaler! Please head over to the following link to register for a call back and our team will reach out to you soon: https://t.co/JLLo6waGLs\n",
      "Author:1194875574331699200\n",
      "-----------------\n",
      "Decision Tree in machine learning simplified 💡\n",
      "\n",
      "#MachineLearning #CreateImpact https://t.co/AV9tTcerIh\n",
      "Author:1194875574331699200\n",
      "-----------------\n",
      "Click this link and book a free live class:\n",
      "https://t.co/jhAUWm8ZqL\n",
      "Author:1194875574331699200\n",
      "-----------------\n",
      "Do you dare enough to stomp your feet, put a smile on your face and call the problems towards you? Then why not solve real business problems with SCALER Data Science Program?\n",
      "\n",
      "Because when life gives you problems, solve them with data.\n",
      "\n",
      "#CreateImpact #SCALER #DataScience https://t.co/Aa4Crbrvm7\n",
      "Author:1194875574331699200\n",
      "-----------------\n",
      "They say sports betting is an art, but we say it's all in the data, bro!\n",
      "\n",
      "Watch the 3rd Episode of #DataBro, where Guru, a data scientist, explains to Nitin how the proper use of data science can assist you in betting on the right team. \n",
      "\n",
      "#SCALEROriginals\n",
      "@thejordindian https://t.co/AuT8i372ok\n",
      "Author:1194875574331699200\n",
      "-----------------\n",
      "@Amir17687955 Hi Amir, we apologise for any inconvenience caused by us - we're here to assist you. We would like to know more about the issue you're facing. Please connect with us at support@scaler.com and share your contact details along with your concern.\n",
      "Author:1194875574331699200\n",
      "-----------------\n",
      "https://t.co/nigwlAnCb0\n",
      "Author:1194875574331699200\n",
      "-----------------\n",
      "Register Here: https://t.co/9PdToAqgnk https://t.co/i97G4xlFS2\n",
      "Author:1194875574331699200\n",
      "-----------------\n",
      "Bengaluru, get ready to be part of an initiative that is building an offline community of techies.\n",
      "#CodersOffline is here with the promise to impart to you the knowledge of a lifetime and much more.\n",
      "\n",
      "#CreateImpact\n",
      "Author:1194875574331699200\n",
      "-----------------\n",
      "https://t.co/OVKVZhKMuI\n",
      "Author:1194875574331699200\n",
      "-----------------\n",
      "Join our Live Telecast to clear your doubts.\n",
      "Register here: https://t.co/cEvpWXgBQj\n",
      "\n",
      "#CreateImpact https://t.co/XwpP0rwleU\n",
      "Author:1194875574331699200\n",
      "-----------------\n",
      "Are you confused about which holds more value?\n",
      "\n",
      "SKILLS    or       DEGREES\n",
      "      _____  | _____\n",
      "            /   |  \\\n",
      "          /     |    \\\n",
      "        /       |       \\\n",
      "    ____      |         ____\n",
      "    \\__/      |         \\__/\n",
      "                 |\n",
      "             ______\n",
      "Author:1194875574331699200\n",
      "-----------------\n",
      "What I sing after finding a bug 2 weeks into writing a code:\n",
      "\n",
      "“𝑾𝒉𝒚 𝒕𝒉𝒊𝒔 𝒘𝒉𝒚 𝒕𝒉𝒊𝒔 𝑪𝒐𝒅𝒆 𝒂 𝒗𝒆𝒓𝒚 𝑪𝒐𝒅𝒆 𝒂 𝒗𝒆𝒓𝒚 𝒔𝒉𝒊𝒕?\n",
      "𝑩𝒖𝒈 𝒎𝒊𝒍𝒂 𝒏𝒐𝒕 𝒔𝒐𝒐𝒏 𝒔𝒐𝒐𝒏,\n",
      "𝑺𝒐𝒐𝒏 𝒅𝒆𝒂𝒅𝒍𝒊𝒏𝒆 𝒕𝒊𝒈𝒉𝒕. ”\n",
      "Author:1194875574331699200\n",
      "-----------------\n",
      "#KNNAlgorithm is also used to differentiate between more sophisticated things like identifying diseases from X Rays and MRI scans.\n",
      "\n",
      "#MachineLearning #SCALER https://t.co/YITfkyaX7j\n",
      "Author:1194875574331699200\n",
      "-----------------\n"
     ]
    }
   ],
   "source": [
    "for tweet in tweets.data:\n",
    "    print(tweet.text)\n",
    "    print(f'Author:{tweet.author_id}')\n",
    "    print('-----------------')"
   ]
  },
  {
   "cell_type": "code",
   "execution_count": null,
   "id": "1c3ad802",
   "metadata": {},
   "outputs": [],
   "source": []
  }
 ],
 "metadata": {
  "kernelspec": {
   "display_name": "Python 3 (ipykernel)",
   "language": "python",
   "name": "python3"
  },
  "language_info": {
   "codemirror_mode": {
    "name": "ipython",
    "version": 3
   },
   "file_extension": ".py",
   "mimetype": "text/x-python",
   "name": "python",
   "nbconvert_exporter": "python",
   "pygments_lexer": "ipython3",
   "version": "3.9.7"
  }
 },
 "nbformat": 4,
 "nbformat_minor": 5
}
